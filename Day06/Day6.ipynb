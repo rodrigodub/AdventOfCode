{
 "cells": [
  {
   "cell_type": "markdown",
   "id": "5f4388e9-a252-4adb-b689-444d28edc788",
   "metadata": {},
   "source": [
    "# Day 6\n",
    "## Tuning Trouble\n",
    "The preparations are finally complete; you and the Elves leave camp on foot and begin to make your way toward the star fruit grove.\n",
    "\n",
    "As you move through the dense undergrowth, one of the Elves gives you a handheld device. He says that it has many fancy features, but the most important one to set up right now is the communication system.\n",
    "\n",
    "However, because he's heard you have significant experience dealing with signal-based systems, he convinced the other Elves that it would be okay to give you their one malfunctioning device - surely you'll have no problem fixing it.\n",
    "\n",
    "As if inspired by comedic timing, the device emits a few colorful sparks.\n",
    "\n",
    "To be able to communicate with the Elves, the device needs to lock on to their signal. The signal is a series of seemingly-random characters that the device receives one at a time.\n",
    "\n",
    "To fix the communication system, you need to add a subroutine to the device that detects a start-of-packet marker in the datastream. In the protocol being used by the Elves, the start of a packet is indicated by a sequence of four characters that are all different.\n",
    "\n",
    "The device will send your subroutine a datastream buffer (your puzzle input); your subroutine needs to identify the first position where the four most recently received characters were all different. Specifically, it needs to report the number of characters from the beginning of the buffer to the end of the first such four-character marker.\n",
    "\n",
    "For example, suppose you receive the following datastream buffer:\n",
    "\n",
    "```mjqjpqmgbljsphdztnvjfqwrcgsmlb```\n",
    "\n",
    "After the first three characters (mjq) have been received, there haven't been enough characters received yet to find the marker. The first time a marker could occur is after the fourth character is received, making the most recent four characters mjqj. Because j is repeated, this isn't a marker.\n",
    "\n",
    "The first time a marker appears is after the seventh character arrives. Once it does, the last four characters received are jpqm, which are all different. In this case, your subroutine should report the value 7, because the first start-of-packet marker is complete after 7 characters have been processed.\n",
    "\n",
    "Here are a few more examples:\n",
    "\n",
    "- ```bvwbjplbgvbhsrlpgdmjqwftvncz```: first marker after character 5\n",
    "- ```nppdvjthqldpwncqszvftbrmjlhg```: first marker after character 6\n",
    "- ```nznrnfrfntjfmvfwmzdfjlvtqnbhcprsg```: first marker after character 10\n",
    "- ```zcfzfwzzqfrljwzlrfnpqdbhtmscgvjw```: first marker after character 11\n",
    "\n",
    "**How many characters need to be processed before the first start-of-packet marker is detected?**"
   ]
  },
  {
   "cell_type": "markdown",
   "id": "4e6c0d23-8e3c-47d7-ad93-b33dc4e34878",
   "metadata": {},
   "source": [
    "## Part 1"
   ]
  },
  {
   "cell_type": "markdown",
   "id": "3f930368-8344-46ed-ab78-19ec09b18c12",
   "metadata": {},
   "source": [
    "### Read the communication stream"
   ]
  },
  {
   "cell_type": "code",
   "execution_count": 1,
   "id": "5f1fe340-4258-46b1-9e50-76b9f8005071",
   "metadata": {},
   "outputs": [],
   "source": [
    "with open(\"datastream.txt\", \"r\") as f:\n",
    "    datastream = f.read()"
   ]
  },
  {
   "cell_type": "code",
   "execution_count": 2,
   "id": "cce6e7f7-ae28-43cc-aa47-b58d7bca86a4",
   "metadata": {},
   "outputs": [
    {
     "data": {
      "text/plain": [
       "'zdnnfgfsgffgllwrwprwrgwwpssznzrnznllstszsttpdptdpdmdsdzsdscsmcmttdllbsbwwtwnwswcchshlhjhfhwfftcchnnfwwbqwqwrqqgmgzmmwzwfzwfzzzsmzzrczcmmhphzhbbbgdbgddmggwwbbttvmtvttfsfttjlttdfdsdqqczqzffbrfbbfbrrmdrrlslshllwzwrzrzzlqldqdjdjwjvjzjrjjcsszjjqfqnfqqsrqrccbhhwphwhbwwlzwwjwfjwfwzfwzffssvjsjddcsdslslrsrfsrffsggdffrcrcdcpprrzbrzbbtstvvqttbqqgfgsggtvtrvtvbbrqrsqrsqsvsbbzmbmgmvgmmrqrzzbbnjjlwjjfssdrdbrbffwrrrjjgcgtgvvjbjjjsqjsqqncntnndcdrcrhhsgstslldwdbwdbdtbdbggpnndhdvhhvrrlzzfjjffzszvvzgzhhqzqttdhdrrwdwzdwdbwwfsfwsfwfqqzwzbzmzwmmvgggvssvwswfwswhwzzqtqrtthhbbjggjppnpfnfmnnghgrhhtvtqtsttbpprzzwqqfhqfflttzffrprwpwspplzpztptgtltjlttwwsrsrprwrsswnwttcscqsqlsqqhshbhlblnnpznnzlnndrnrcncvcqcjqqvhvppjzjddzbzsztzqqlmlnlnblnlwnllswszwzrzddqhdqhqffhfhjjpbbhvbvmmfhmhcccjlclhcllbrlblddnpplggcmmvddmmqzzmqmppnjpjjjzllqjqccrwwhzhnnlmlhhbbtztvtltvtnvtvltlrtrllbttbzzfwfrrjzjbbmgghjhqhlljnjhhhjzjcjvcvwwzczwcwgcclflnnsvvcncbncnqqpjqjnjwjrrgqrrmqmfmmmjgjfgjfftggqdgqddgcdcdwdrdsswqqphpjhhdjjwswfwfnfqnqccvhvzvmzvzzplzljzjpzzhmzmqzqjjprpvrrhqqnbngnnpvpfvpvqvwwrhhdndqdppmcppzddbzzjcjdjfjnfnngqnnchcqqpllpwppgllcblcblbddzhhqsqbssjqqgmgbgzzvhvnhvnhvvpmpvvlddgppzrprmpmbpbjpbpfptpspddcgddqhdhhthrhjrhrvrlrffvbfbvfvbblssftfnfwwrwnnzdznnbwnbwnwlwttszzmmlzlhhpjhhjvvlvwwdnddzwdwgdgdssflfvfzvznzbzrbzzdssphhgttllcjcvcjjdrdqdhdnndlndldcllcnllslvlnvllmglgnnplpmpzzjwjtwtnntrtjtvjtjffhcfclltppftfwwprrwsrwwzdwzdztzccbmccfcfzczbcbsbqsstjtrrpnnfqqfmmchmmwmrwrwzwztzddgzdgzzfwzzrppcscrrgvgvgvtgtsslrsrvsrrdcdscscwcwqqsccwjcjgjvgvpvnvhhchrrgprpvrvsvsttgghdghhmphmmbvbcbsccdbcbnccbnnsjnjhnnzbnnpjbwdpczcvgjpgwfqrmnvwncflvnttwhfgmfqvngpdhbhvlglfhtdqmqtqcgjcqghzvbdghdgvjcsjrlpqvgcdnbpqrcrcvqqdlcpscqbfpsnhzcdbbcssslrjlzsqpprsbmtqhzblvwbswprhztmpcgfqfsgshchrhjmwwhpzsjzrmrvgdgwjrlwpgqhbzrmnmnnsnvzsrlhthgvlpljsjrpbhbzctdqgvdjcmrgtvqjqbcwsprnfmntzpbjcdtlchhjgwpmldmsstbtztfdbgbstgnlwbzrrzmvbrhnrlcwfgwwbfnntbjspqwngbjrvhdcnblqssgjlbcwbbgphhnmfcmdhqdhsnmvdjnwwwjlffswhsmwqrsprftjwtbtcvmpctgvfqvvcjpnwzqldglfbwfzpnqmdlrdpjmjptvwsctlmhmzzgvplglfgsvrfbqbmrhplczbvqpdjjhhvfqswhzhqfgzstwwpbtbsnnlgpshwqgppzbpsfpfvcntbbbzwdnfcgcwzbqwmhjrhpdfvpbzpmfnmllrcqlqhcbzfltzcgccwwqmtsmwchhvbqtdrnsbrchqqcmtfqpddcjplbvdhhtndrrmfdtmbpdvwthvgdccnrcqmpznlvzqzfjqmpvgjtfbtfjnrmlzhwhljrrqnbqzpfhcvncblfggrtbdfjqnlgpbrzmwcvrvjtjscfmcnfjgqzqsphldvhdbpvmghrvsdmvpmvvdmdhwdghtjltmlcmfhvrsvcvpblwhhfcfdqnrsjbcldgbwhtnjntmgvprhbjrcvsmhgtfphcwncpjtngqhvwrmgprstbtdstmttpzcntmzvncwslqlldpnjbtpmsfnwbpwpnlfgdvcqplvlqqjvfftnnvpcmwjrvwqhlrshftrbhcwnczzsnvtnjnrbzzgzfsqhnfwlcgzvvhqcgvqtmcpnhlvdlmwgsvtwbqgrdsrrddszvscbgtlpwpzjrbvwhjnrpprhtzmthbpfzvplzwfdtnwqwtctgjslmcczjvwplsqwgfnfbgdjbsdpwbgflttvvqlhzgmmpjsnwbqqtcdszfqbhgnmbbmrbrgnrzdmzwnjjzjqcwqcqfchjrzlspgbrchcbgwbhvggsqbvdpzbpnwdtqvcjwcwnbjdhsdfmbtwfbfhzwwtnqzhmtvtbfwrsqjzgssvlwszvlmvbslpncnhmsdhcqqfpftztpzbbhsgbnscddbjlgwgjjndgwbrhwmsfdmmsnlwgwdsdltwjfvwnczjrbgcvsfczppltdptlgcdfzgmqpjngstldqgmwhdmfrwwfqwdgswvfdrtsgtvttpcbnhzbscnchpvfjvbcszbwchnbmfrvsswslbzlhgwlvfchdbfthbpdbwwqtmlgwjqtjhzrjzzmrpdwnvfgrnqdcqmwtttmwjvgcmjsddvtlswldzhtppwvhmlghwlgblfttctnglwhtfvqgjmdjcnflsrjvpjwcjfftbdmmcbqvfwnnnzsltllncbstgnhtmpsltgztqzjbbrtqpcvdlnhpnhvmmztpfpplbqjlpqvfsdvhwvstdmqbtnpzrcbdhvdtghqwcppcfzjfjsfwvqrtfgcdzwgzjvrqqsjtnhlbjcmtjcnmtpffwcwhqqphwjsrhpqvnnhhrcnvztfdjzbjggwlgjprbpssgnmtcrvprwbsrfvvphrsgzgbrfnpgtqbbprhfphqntsglrmhzfnwqptlslnhtrhfprjpdcglcffsblnjwczmgwhmmtgsgwljmqlvdglqmzwmtqcvgcrmqjldlsnbssdvrrtltngvrsqbctqlsngqvcphjvhmwsssgwmvgzdctjcmjtpcjhvfcrfhbffdqfjjvpqwgvnlzhgfnfmlrrfvjrdvhzdcvdvmpncvtjbbnczpzmglfqnpbsrsjwgvszsnqvrnvlhmqjjnmsfngbdlpwbqllcptjtlbhrfdvhlrpdlznpvndjzjdtjflqqjdgjjpmnpmjgcglllgcqbfpvdtpbjdnvrclmnlfdrpbmwzgvdhgbzvbhwqfslhshbfcbwrnsjndgjgccllfbzgmcjqcmdnfftnccphqtwmgqgfqlvlwsrprctchqrscwvgpdrwgcfgzjwmzmmsmwzgtzsjtqfggcczcmghlqgnqqjvsrsfrrmwmnrnhbsszmwsqlrggsbdwzzfnhwcggjszfrlffplvcblvphqmzjnzwzdshhdprfrdbcrmbtztcfvgpzpmmgflswphvnvtwhbbhjwffsvqfjlfvzqmhmsmddwdwsqfnnplbqnptbvgjqgmflsbfdtpvdgbfnqmcqznhpqbpwtbfpqllvqwvcftdjjtlsvzbssbtcdzqqqvzlqhfpdthscqmvhpndmnztthvvzccqswswspnqcbncvszrgjshjhdsclrjdnjdczqmcjldbspclgrmwqdvcvpcsvjggfdqlrwlnzptfvcwjsgblpjzgcrrmjqptvdnwr\\n'"
      ]
     },
     "execution_count": 2,
     "metadata": {},
     "output_type": "execute_result"
    }
   ],
   "source": [
    "datastream"
   ]
  },
  {
   "cell_type": "markdown",
   "id": "99d7513b-a35a-4b50-97d8-ebf103286919",
   "metadata": {},
   "source": [
    "### Find the start-of-packet marker\n",
    "> Specifically, it needs to report the *number of characters from the beginning of the buffer to the end of the first such four-character* marker."
   ]
  },
  {
   "cell_type": "code",
   "execution_count": 29,
   "id": "88e555ac-a74f-4237-bca7-caa8efffde9d",
   "metadata": {},
   "outputs": [],
   "source": [
    "def find_packet_start(buffer):\n",
    "    # iterate datastream buffer\n",
    "    for i in range(len(buffer)-5):\n",
    "        # take four characters and check if they are unique\n",
    "        marker = buffer[i:i+4]\n",
    "        # test if marker is 4-letter\n",
    "        if len(set(marker))==4:\n",
    "            print(f\"Marker: {marker}\\nCharacters to the end of 4-char: {i+4}\")\n",
    "            return"
   ]
  },
  {
   "cell_type": "code",
   "execution_count": 30,
   "id": "6e93d2c2-5da9-4a83-9100-7ad6cb1abfe2",
   "metadata": {},
   "outputs": [
    {
     "name": "stdout",
     "output_type": "stream",
     "text": [
      "Marker: npjb\n",
      "Characters to the end of 4-char: 1566\n"
     ]
    }
   ],
   "source": [
    "find_packet_start(datastream)"
   ]
  },
  {
   "cell_type": "code",
   "execution_count": 24,
   "id": "126b5294-e873-462c-a310-b5ccf817a8cd",
   "metadata": {},
   "outputs": [
    {
     "data": {
      "text/plain": [
       "1562"
      ]
     },
     "execution_count": 24,
     "metadata": {},
     "output_type": "execute_result"
    }
   ],
   "source": [
    "# confirm?\n",
    "datastream.find(\"npjb\")"
   ]
  },
  {
   "cell_type": "code",
   "execution_count": 27,
   "id": "540d057e-76d3-427b-9ff4-22875516f862",
   "metadata": {},
   "outputs": [
    {
     "data": {
      "text/plain": [
       "(0, 29)"
      ]
     },
     "execution_count": 27,
     "metadata": {},
     "output_type": "execute_result"
    }
   ],
   "source": [
    "# confirm?\n",
    "test_string = \"zdnnfgfsgffgllwrwprwrgwwpsszn\"\n",
    "datastream.find(test_string), datastream.find(test_string) + len(test_string)"
   ]
  },
  {
   "cell_type": "code",
   "execution_count": 28,
   "id": "ad9cf046-38e1-4b3e-abd7-d4cb674a36d4",
   "metadata": {},
   "outputs": [
    {
     "data": {
      "text/plain": [
       "(1562, 1566)"
      ]
     },
     "execution_count": 28,
     "metadata": {},
     "output_type": "execute_result"
    }
   ],
   "source": [
    "# confirm?\n",
    "test_string = \"npjb\"\n",
    "datastream.find(test_string), datastream.find(test_string) + len(test_string)"
   ]
  },
  {
   "cell_type": "markdown",
   "id": "915d0a5c-b578-4e3c-ad13-80164a463e2f",
   "metadata": {},
   "source": [
    "**How many characters need to be processed before the first start-of-packet marker is detected?**\n",
    "#### 1566\n",
    "\n",
    "That's the right answer! You are one gold star closer to collecting enough star fruit. \n",
    "\n",
    "---\n",
    "\n",
    "## Part 2\n",
    "\n",
    "Your device's communication system is correctly detecting packets, but still isn't working. It looks like it also needs to look for messages.\n",
    "\n",
    "A start-of-message marker is just like a start-of-packet marker, except it consists of 14 distinct characters rather than 4.\n",
    "\n",
    "Here are the first positions of start-of-message markers for all of the above examples:\n",
    "\n",
    "- ```mjqjpqmgbljsphdztnvjfqwrcgsmlb```: first marker after character 19\n",
    "- ```bvwbjplbgvbhsrlpgdmjqwftvncz```: first marker after character 23\n",
    "- ```nppdvjthqldpwncqszvftbrmjlhg```: first marker after character 23\n",
    "- ```nznrnfrfntjfmvfwmzdfjlvtqnbhcprsg```: first marker after character 29\n",
    "- ```zcfzfwzzqfrljwzlrfnpqdbhtmscgvjw```: first marker after character 26\n",
    "\n",
    "**How many characters need to be processed before the first start-of-message marker is detected?**"
   ]
  },
  {
   "cell_type": "code",
   "execution_count": 31,
   "id": "c6ba7624-b309-4f24-8bff-ea2417ad37ca",
   "metadata": {},
   "outputs": [],
   "source": [
    "def find_any_start(buffer, number_of_chars):\n",
    "    # iterate datastream buffer\n",
    "    for i in range(len(buffer)-(number_of_chars+1)):\n",
    "        # take n- characters and check if they are unique\n",
    "        marker = buffer[i:i+number_of_chars]\n",
    "        # test if marker is n-letter\n",
    "        if len(set(marker))==number_of_chars:\n",
    "            print(f\"Marker: {marker}\\nCharacters to the end of {number_of_chars}-char: {i+number_of_chars}\")\n",
    "            return"
   ]
  },
  {
   "cell_type": "code",
   "execution_count": 33,
   "id": "be5ec1dc-07ee-4098-b0ed-9cdd4ab6697c",
   "metadata": {},
   "outputs": [
    {
     "name": "stdout",
     "output_type": "stream",
     "text": [
      "Marker: npjb\n",
      "Characters to the end of 4-char: 1566\n"
     ]
    }
   ],
   "source": [
    "# Test with Part 1\n",
    "find_any_start(datastream, 4)"
   ]
  },
  {
   "cell_type": "code",
   "execution_count": 34,
   "id": "1d160d3a-85a8-43dc-b2de-4596cba9879e",
   "metadata": {},
   "outputs": [
    {
     "name": "stdout",
     "output_type": "stream",
     "text": [
      "Marker: dfjqnlgpbrzmwc\n",
      "Characters to the end of 14-char: 2265\n"
     ]
    }
   ],
   "source": [
    "# Run with start-of-message\n",
    "find_any_start(datastream, 14)"
   ]
  },
  {
   "cell_type": "markdown",
   "id": "299edb4c-1cd2-425a-a83c-a56321c166f3",
   "metadata": {},
   "source": [
    "#### 2265\n",
    "\n",
    "That's the right answer! You are one gold star closer to collecting enough star fruit.\n",
    "\n",
    "You have completed Day 6! "
   ]
  },
  {
   "cell_type": "code",
   "execution_count": null,
   "id": "4cbe995e-0c21-4931-a82b-f37901e4b998",
   "metadata": {},
   "outputs": [],
   "source": []
  }
 ],
 "metadata": {
  "kernelspec": {
   "display_name": "Python 3 (ipykernel)",
   "language": "python",
   "name": "python3"
  },
  "language_info": {
   "codemirror_mode": {
    "name": "ipython",
    "version": 3
   },
   "file_extension": ".py",
   "mimetype": "text/x-python",
   "name": "python",
   "nbconvert_exporter": "python",
   "pygments_lexer": "ipython3",
   "version": "3.10.8"
  }
 },
 "nbformat": 4,
 "nbformat_minor": 5
}
