{
 "cells": [
  {
   "cell_type": "markdown",
   "id": "10ddc7f2",
   "metadata": {},
   "source": [
    "# [Advent of Code](https://adventofcode.com/)\n",
    "\n",
    "## 2024\n",
    "\n",
    "[Day 1](https://adventofcode.com/2024/day/1)\n",
    "\n",
    "```text\n",
    "--- Day 1: Historian Hysteria ---\n",
    "The Chief Historian is always present for the big Christmas sleigh launch, but nobody has seen him in months! Last anyone heard, he was visiting locations that are historically significant to the North Pole; a group of Senior Historians has asked you to accompany them as they check the places they think he was most likely to visit.\n",
    "\n",
    "As each location is checked, they will mark it on their list with a star. They figure the Chief Historian must be in one of the first fifty places they'll look, so in order to save Christmas, you need to help them get fifty stars on their list before Santa takes off on December 25th.\n",
    "\n",
    "Collect stars by solving puzzles. Two puzzles will be made available on each day in the Advent calendar; the second puzzle is unlocked when you complete the first. Each puzzle grants one star. Good luck!\n",
    "\n",
    "You haven't even left yet and the group of Elvish Senior Historians has already hit a problem: their list of locations to check is currently empty. Eventually, someone decides that the best place to check first would be the Chief Historian's office.\n",
    "\n",
    "Upon pouring into the office, everyone confirms that the Chief Historian is indeed nowhere to be found. Instead, the Elves discover an assortment of notes and lists of historically significant locations! This seems to be the planning the Chief Historian was doing before he left. Perhaps these notes can be used to determine which locations to search?\n",
    "\n",
    "Throughout the Chief's office, the historically significant locations are listed not by name but by a unique number called the location ID. To make sure they don't miss anything, The Historians split into two groups, each searching the office and trying to create their own complete list of location IDs.\n",
    "\n",
    "There's just one problem: by holding the two lists up side by side (your puzzle input), it quickly becomes clear that the lists aren't very similar. Maybe you can help The Historians reconcile their lists?\n",
    "\n",
    "For example:\n",
    "\n",
    "3   4\n",
    "4   3\n",
    "2   5\n",
    "1   3\n",
    "3   9\n",
    "3   3\n",
    "Maybe the lists are only off by a small amount! To find out, pair up the numbers and measure how far apart they are. Pair up the smallest number in the left list with the smallest number in the right list, then the second-smallest left number with the second-smallest right number, and so on.\n",
    "\n",
    "Within each pair, figure out how far apart the two numbers are; you'll need to add up all of those distances. For example, if you pair up a 3 from the left list with a 7 from the right list, the distance apart is 4; if you pair up a 9 with a 3, the distance apart is 6.\n",
    "\n",
    "In the example list above, the pairs and distances would be as follows:\n",
    "\n",
    "The smallest number in the left list is 1, and the smallest number in the right list is 3. The distance between them is 2.\n",
    "The second-smallest number in the left list is 2, and the second-smallest number in the right list is another 3. The distance between them is 1.\n",
    "The third-smallest number in both lists is 3, so the distance between them is 0.\n",
    "The next numbers to pair up are 3 and 4, a distance of 1.\n",
    "The fifth-smallest numbers in each list are 3 and 5, a distance of 2.\n",
    "Finally, the largest number in the left list is 4, while the largest number in the right list is 9; these are a distance 5 apart.\n",
    "To find the total distance between the left list and the right list, add up the distances between all of the pairs you found. In the example above, this is 2 + 1 + 0 + 1 + 2 + 5, a total distance of 11!\n",
    "\n",
    "Your actual left and right lists contain many location IDs. What is the total distance between your lists?\n",
    "```"
   ]
  },
  {
   "cell_type": "code",
   "execution_count": 2,
   "id": "536adcb1",
   "metadata": {},
   "outputs": [],
   "source": [
    "import pandas as pd"
   ]
  },
  {
   "cell_type": "code",
   "execution_count": 21,
   "id": "058b158e",
   "metadata": {},
   "outputs": [],
   "source": [
    "# Read file contents\n",
    "# locations = pd.read_csv(\"day-1-input.txt\", sep=\"   \", engine='python', header=None)\n",
    "# locations.columns = [\"left_list\", \"right_list\"]\n",
    "\n",
    "# locations"
   ]
  },
  {
   "cell_type": "code",
   "execution_count": 20,
   "id": "b2cbc48e",
   "metadata": {},
   "outputs": [
    {
     "data": {
      "text/plain": [
       "936063"
      ]
     },
     "execution_count": 20,
     "metadata": {},
     "output_type": "execute_result"
    }
   ],
   "source": [
    "# Read file contents\n",
    "with open(\"day-1-input.txt\") as f:\n",
    "    locations = [line.replace(\"\\n\", \"\").split(\"   \") for line in f.readlines()]\n",
    "\n",
    "# Reorder each list\n",
    "left_ordered = [int(i[0]) for i in locations]\n",
    "left_ordered.sort()\n",
    "right_ordered = [int(i[1]) for i in locations]\n",
    "right_ordered.sort()\n",
    "\n",
    "# Zip ordered\n",
    "zipped = list(zip(left_ordered, right_ordered))\n",
    "\n",
    "# Sum up the differences\n",
    "result = sum([abs(i[1] - i[0]) for i in zipped])\n",
    "\n",
    "# View data\n",
    "# locations\n",
    "# left_ordered\n",
    "# right_ordered\n",
    "# zipped\n",
    "result"
   ]
  },
  {
   "cell_type": "markdown",
   "id": "9e398419",
   "metadata": {},
   "source": [
    "That's the right answer! You are one gold star closer to finding the Chief Historian. [Continue to Part Two]\n",
    "\n",
    "---\n",
    "\n",
    "```text\n",
    "Your puzzle answer was 936063.\n",
    "\n",
    "The first half of this puzzle is complete! It provides one gold star: *\n",
    "\n",
    "--- Part Two ---\n",
    "Your analysis only confirmed what everyone feared: the two lists of location IDs are indeed very different.\n",
    "\n",
    "Or are they?\n",
    "\n",
    "The Historians can't agree on which group made the mistakes or how to read most of the Chief's handwriting, but in the commotion you notice an interesting detail: a lot of location IDs appear in both lists! Maybe the other numbers aren't location IDs at all but rather misinterpreted handwriting.\n",
    "\n",
    "This time, you'll need to figure out exactly how often each number from the left list appears in the right list. Calculate a total similarity score by adding up each number in the left list after multiplying it by the number of times that number appears in the right list.\n",
    "\n",
    "Here are the same example lists again:\n",
    "\n",
    "3   4\n",
    "4   3\n",
    "2   5\n",
    "1   3\n",
    "3   9\n",
    "3   3\n",
    "For these example lists, here is the process of finding the similarity score:\n",
    "\n",
    "The first number in the left list is 3. It appears in the right list three times, so the similarity score increases by 3 * 3 = 9.\n",
    "The second number in the left list is 4. It appears in the right list once, so the similarity score increases by 4 * 1 = 4.\n",
    "The third number in the left list is 2. It does not appear in the right list, so the similarity score does not increase (2 * 0 = 0).\n",
    "The fourth number, 1, also does not appear in the right list.\n",
    "The fifth number, 3, appears in the right list three times; the similarity score increases by 9.\n",
    "The last number, 3, appears in the right list three times; the similarity score again increases by 9.\n",
    "So, for these example lists, the similarity score at the end of this process is 31 (9 + 4 + 0 + 0 + 9 + 9).\n",
    "\n",
    "Once again consider your left and right lists. What is their similarity score?\n",
    "```"
   ]
  },
  {
   "cell_type": "code",
   "execution_count": 28,
   "id": "4682204d-9878-429b-b0ea-882024bb43c2",
   "metadata": {},
   "outputs": [
    {
     "data": {
      "text/plain": [
       "23150395"
      ]
     },
     "execution_count": 28,
     "metadata": {},
     "output_type": "execute_result"
    }
   ],
   "source": [
    "# locations\n",
    "# left_ordered\n",
    "# right_ordered\n",
    "\n",
    "# Count each location from left in the right list\n",
    "left_locations_count_on_right = []\n",
    "for location in left_ordered:\n",
    "    left_locations_count_on_right.append([location, right_ordered.count(location)])\n",
    "\n",
    "# left_locations_count_on_right\n",
    "\n",
    "# Calculate Similarity Score\n",
    "similarity_score = sum([i[0] * i[1] for i in left_locations_count_on_right])\n",
    "similarity_score"
   ]
  },
  {
   "cell_type": "markdown",
   "id": "ba6ac689",
   "metadata": {},
   "source": [
    "That's the right answer! You are one gold star closer to finding the Chief Historian.\n",
    "\n",
    "You have completed Day 1! You can [Shareon Bluesky Twitter Mastodon] this victory or [Return to Your Advent Calendar]."
   ]
  },
  {
   "cell_type": "code",
   "execution_count": null,
   "id": "d9b94b59",
   "metadata": {},
   "outputs": [],
   "source": []
  },
  {
   "cell_type": "code",
   "execution_count": null,
   "id": "14eb427d",
   "metadata": {},
   "outputs": [],
   "source": []
  }
 ],
 "metadata": {
  "kernelspec": {
   "display_name": ".venv",
   "language": "python",
   "name": "python3"
  },
  "language_info": {
   "codemirror_mode": {
    "name": "ipython",
    "version": 3
   },
   "file_extension": ".py",
   "mimetype": "text/x-python",
   "name": "python",
   "nbconvert_exporter": "python",
   "pygments_lexer": "ipython3",
   "version": "3.13.0"
  }
 },
 "nbformat": 4,
 "nbformat_minor": 5
}
