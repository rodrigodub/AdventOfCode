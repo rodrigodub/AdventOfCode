{
 "cells": [
  {
   "cell_type": "markdown",
   "id": "10ddc7f2",
   "metadata": {},
   "source": [
    "# [Advent of Code](https://adventofcode.com/)\n",
    "\n",
    "## 2024\n",
    "\n",
    "[Day x](https://adventofcode.com/2024/day/x)\n",
    "\n",
    "\n",
    "### Part 1\n",
    "\n",
    "```text\n",
    "\n",
    "```"
   ]
  },
  {
   "cell_type": "code",
   "execution_count": null,
   "id": "a09a3acc",
   "metadata": {},
   "outputs": [],
   "source": []
  },
  {
   "cell_type": "markdown",
   "id": "1972fcb2",
   "metadata": {},
   "source": [
    "## nnn Answer 1\n",
    "\n",
    "---"
   ]
  },
  {
   "cell_type": "markdown",
   "id": "9e3769d3",
   "metadata": {},
   "source": [
    "### Part 2\n",
    "\n",
    "```shell\n",
    "\n",
    "```"
   ]
  },
  {
   "cell_type": "code",
   "execution_count": null,
   "id": "203e14e6",
   "metadata": {},
   "outputs": [],
   "source": []
  },
  {
   "cell_type": "markdown",
   "id": "1c571464",
   "metadata": {},
   "source": [
    "## nnn Answer 2"
   ]
  },
  {
   "cell_type": "code",
   "execution_count": null,
   "id": "409a8987",
   "metadata": {},
   "outputs": [],
   "source": []
  },
  {
   "cell_type": "code",
   "execution_count": null,
   "id": "c91cec89",
   "metadata": {},
   "outputs": [],
   "source": []
  }
 ],
 "metadata": {
  "kernelspec": {
   "display_name": ".venv",
   "language": "python",
   "name": "python3"
  },
  "language_info": {
   "codemirror_mode": {
    "name": "ipython",
    "version": 3
   },
   "file_extension": ".py",
   "mimetype": "text/x-python",
   "name": "python",
   "nbconvert_exporter": "python",
   "pygments_lexer": "ipython3",
   "version": "3.13.0"
  }
 },
 "nbformat": 4,
 "nbformat_minor": 5
}
