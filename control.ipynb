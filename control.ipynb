{
 "cells": [
  {
   "cell_type": "code",
   "execution_count": 5,
   "id": "8d8f9eb6-eddf-4691-847c-0cdf65294db2",
   "metadata": {},
   "outputs": [],
   "source": [
    "import os\n",
    "import shutil"
   ]
  },
  {
   "cell_type": "markdown",
   "id": "935d966a-490c-4b41-8d99-a29baeab9bf9",
   "metadata": {},
   "source": [
    "## Creating subdirectories"
   ]
  },
  {
   "cell_type": "code",
   "execution_count": 3,
   "id": "cc1642a2-3f49-4d82-bad1-debbe77446d3",
   "metadata": {},
   "outputs": [
    {
     "name": "stdout",
     "output_type": "stream",
     "text": [
      "07  08  09  10  11  12  13  14  15  16  17  18  19  20  21  22  23  24  25  "
     ]
    }
   ],
   "source": [
    "for i in range(7, 26):\n",
    "    print(f\"{i:02}\", end=\"  \")"
   ]
  },
  {
   "cell_type": "code",
   "execution_count": 4,
   "id": "b9751f19-8ac9-4054-afc3-6df1a9a58cc0",
   "metadata": {},
   "outputs": [
    {
     "name": "stdout",
     "output_type": "stream",
     "text": [
      "Directory \\Day07 created.\n",
      "Directory \\Day08 created.\n",
      "Directory \\Day09 created.\n",
      "Directory \\Day10 created.\n",
      "Directory \\Day11 created.\n",
      "Directory \\Day12 created.\n",
      "Directory \\Day13 created.\n",
      "Directory \\Day14 created.\n",
      "Directory \\Day15 created.\n",
      "Directory \\Day16 created.\n",
      "Directory \\Day17 created.\n",
      "Directory \\Day18 created.\n",
      "Directory \\Day19 created.\n",
      "Directory \\Day20 created.\n",
      "Directory \\Day21 created.\n",
      "Directory \\Day22 created.\n",
      "Directory \\Day23 created.\n",
      "Directory \\Day24 created.\n",
      "Directory \\Day25 created.\n"
     ]
    }
   ],
   "source": [
    "for i in range(7, 26):\n",
    "    os.makedirs(f\"Day{i:02}\")\n",
    "    print(f\"Directory \\Day{i:02} created.\")"
   ]
  },
  {
   "cell_type": "code",
   "execution_count": null,
   "id": "8c2ff523-5cf8-43e4-8727-dc18fa0e3c8c",
   "metadata": {},
   "outputs": [],
   "source": []
  },
  {
   "cell_type": "markdown",
   "id": "9e2f222e-ac05-4ce5-bdb3-2528cc7ede10",
   "metadata": {},
   "source": [
    "## Create notebooks from stub"
   ]
  },
  {
   "cell_type": "code",
   "execution_count": 6,
   "id": "f142b299-955b-4eb1-972e-147e17187c20",
   "metadata": {},
   "outputs": [
    {
     "name": "stdout",
     "output_type": "stream",
     "text": [
      "Day7.ipynb created.\n",
      "Day8.ipynb created.\n",
      "Day9.ipynb created.\n",
      "Day10.ipynb created.\n",
      "Day11.ipynb created.\n",
      "Day12.ipynb created.\n",
      "Day13.ipynb created.\n",
      "Day14.ipynb created.\n",
      "Day15.ipynb created.\n",
      "Day16.ipynb created.\n",
      "Day17.ipynb created.\n",
      "Day18.ipynb created.\n",
      "Day19.ipynb created.\n",
      "Day20.ipynb created.\n",
      "Day21.ipynb created.\n",
      "Day22.ipynb created.\n",
      "Day23.ipynb created.\n",
      "Day24.ipynb created.\n",
      "Day25.ipynb created.\n"
     ]
    }
   ],
   "source": [
    "for i in range(7, 26):\n",
    "    shutil.copy(\"stub.ipynb\", f\"Day{i:02}/Day{i}.ipynb\")\n",
    "    print(f\"Day{i}.ipynb created.\")"
   ]
  },
  {
   "cell_type": "code",
   "execution_count": null,
   "id": "192479e6-1f3b-4aa6-b890-7fa9a5477e4e",
   "metadata": {},
   "outputs": [],
   "source": []
  },
  {
   "cell_type": "markdown",
   "id": "848eac06-e2d1-4fcb-bf46-562290b6ee27",
   "metadata": {},
   "source": [
    "## Append README.md"
   ]
  },
  {
   "cell_type": "code",
   "execution_count": 17,
   "id": "bf810fee-5bc1-4ee2-bf97-20bba629b1b8",
   "metadata": {},
   "outputs": [],
   "source": [
    "template = \"\"\"\n",
    "### Day {0}\n",
    "\n",
    "DD/MM/2023 : \n",
    "[   ](Day{0:02}/Day{0}.ipynb)\"\"\""
   ]
  },
  {
   "cell_type": "code",
   "execution_count": 18,
   "id": "24556b7e-9df8-4ab4-82bf-62d399da32d3",
   "metadata": {},
   "outputs": [
    {
     "name": "stdout",
     "output_type": "stream",
     "text": [
      "\n",
      "### Day 7\n",
      "\n",
      "DD/MM/2023 : \n",
      "[   ](Day07/Day7.ipynb)\n",
      "\n",
      "### Day 8\n",
      "\n",
      "DD/MM/2023 : \n",
      "[   ](Day08/Day8.ipynb)\n",
      "\n",
      "### Day 9\n",
      "\n",
      "DD/MM/2023 : \n",
      "[   ](Day09/Day9.ipynb)\n",
      "\n",
      "### Day 10\n",
      "\n",
      "DD/MM/2023 : \n",
      "[   ](Day10/Day10.ipynb)\n",
      "\n",
      "### Day 11\n",
      "\n",
      "DD/MM/2023 : \n",
      "[   ](Day11/Day11.ipynb)\n",
      "\n",
      "### Day 12\n",
      "\n",
      "DD/MM/2023 : \n",
      "[   ](Day12/Day12.ipynb)\n",
      "\n",
      "### Day 13\n",
      "\n",
      "DD/MM/2023 : \n",
      "[   ](Day13/Day13.ipynb)\n",
      "\n",
      "### Day 14\n",
      "\n",
      "DD/MM/2023 : \n",
      "[   ](Day14/Day14.ipynb)\n",
      "\n",
      "### Day 15\n",
      "\n",
      "DD/MM/2023 : \n",
      "[   ](Day15/Day15.ipynb)\n",
      "\n",
      "### Day 16\n",
      "\n",
      "DD/MM/2023 : \n",
      "[   ](Day16/Day16.ipynb)\n",
      "\n",
      "### Day 17\n",
      "\n",
      "DD/MM/2023 : \n",
      "[   ](Day17/Day17.ipynb)\n",
      "\n",
      "### Day 18\n",
      "\n",
      "DD/MM/2023 : \n",
      "[   ](Day18/Day18.ipynb)\n",
      "\n",
      "### Day 19\n",
      "\n",
      "DD/MM/2023 : \n",
      "[   ](Day19/Day19.ipynb)\n",
      "\n",
      "### Day 20\n",
      "\n",
      "DD/MM/2023 : \n",
      "[   ](Day20/Day20.ipynb)\n",
      "\n",
      "### Day 21\n",
      "\n",
      "DD/MM/2023 : \n",
      "[   ](Day21/Day21.ipynb)\n",
      "\n",
      "### Day 22\n",
      "\n",
      "DD/MM/2023 : \n",
      "[   ](Day22/Day22.ipynb)\n",
      "\n",
      "### Day 23\n",
      "\n",
      "DD/MM/2023 : \n",
      "[   ](Day23/Day23.ipynb)\n",
      "\n",
      "### Day 24\n",
      "\n",
      "DD/MM/2023 : \n",
      "[   ](Day24/Day24.ipynb)\n",
      "\n",
      "### Day 25\n",
      "\n",
      "DD/MM/2023 : \n",
      "[   ](Day25/Day25.ipynb)\n"
     ]
    }
   ],
   "source": [
    "for i in range(7, 26):\n",
    "    print(template.format(i))"
   ]
  },
  {
   "cell_type": "code",
   "execution_count": null,
   "id": "ca4dce9a-78fb-4f5a-98da-68aff302be68",
   "metadata": {},
   "outputs": [],
   "source": []
  }
 ],
 "metadata": {
  "kernelspec": {
   "display_name": "Python 3 (ipykernel)",
   "language": "python",
   "name": "python3"
  },
  "language_info": {
   "codemirror_mode": {
    "name": "ipython",
    "version": 3
   },
   "file_extension": ".py",
   "mimetype": "text/x-python",
   "name": "python",
   "nbconvert_exporter": "python",
   "pygments_lexer": "ipython3",
   "version": "3.10.8"
  }
 },
 "nbformat": 4,
 "nbformat_minor": 5
}
